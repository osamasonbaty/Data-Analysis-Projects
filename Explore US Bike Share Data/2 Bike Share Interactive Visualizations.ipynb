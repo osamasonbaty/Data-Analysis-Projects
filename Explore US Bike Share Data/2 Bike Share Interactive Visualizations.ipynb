{
 "cells": [
  {
   "cell_type": "markdown",
   "id": "d101c7c1",
   "metadata": {},
   "source": [
    "# Explore US Bikeshare Data"
   ]
  },
  {
   "cell_type": "markdown",
   "id": "688f03c2",
   "metadata": {},
   "source": [
    "This is a continuation of the previous notebook for exploring the bike share system data of Motivate. In this notebook, I created interactive visualizations with the help of ipywidgets so the user can filter inputs (City and Month) and the plots will update automatically."
   ]
  },
  {
   "cell_type": "code",
   "execution_count": 1,
   "id": "79f29b4d",
   "metadata": {},
   "outputs": [],
   "source": [
    "import pandas as pd\n",
    "import seaborn as sns\n",
    "import matplotlib.pyplot as plt"
   ]
  },
  {
   "cell_type": "code",
   "execution_count": 2,
   "id": "90e1ab69",
   "metadata": {},
   "outputs": [],
   "source": [
    "CITY_DATA = {'chicago': 'chicago.csv',\n",
    "             'new york city': 'new_york_city.csv',\n",
    "             'washington': 'washington.csv'}\n",
    "months = ['january', 'february', 'march', 'april', 'may', 'june']\n",
    "days = ['saturday', 'sunday', 'monday', 'tuesday', 'wednsday', 'thursday', 'friday']"
   ]
  },
  {
   "cell_type": "code",
   "execution_count": 3,
   "id": "8bb2a459",
   "metadata": {},
   "outputs": [],
   "source": [
    "def load_data(city, month, day):\n",
    "    \n",
    "    df = pd.read_csv(CITY_DATA[city])\n",
    "    df.drop(['Unnamed: 0'], axis = 1, inplace = True)\n",
    "    \n",
    "    #we'll change the start time to date time format and extract the month, day and hour\n",
    "    \n",
    "    df['Start Time'] = pd.to_datetime(df['Start Time'])\n",
    "    df['month'] = df['Start Time'].dt.month\n",
    "    df['day_of_week'] = df['Start Time'].dt.day_name()\n",
    "    df['hour'] = df['Start Time'].dt.hour\n",
    "    \n",
    "    #now we have the df loaded correctly, we need to filter by the input month\n",
    "    #the user can enter a month name or 'all', if they choose all, we don't need to filter\n",
    "    \n",
    "    if month != 'all':\n",
    "        # when we extract the month using .dt, it will be the month number, so we need to index the months\n",
    "        months = ['january', 'february', 'march', 'april', 'may', 'june'] \n",
    "        df = df[df['month'] == months.index(month) + 1]\n",
    "        \n",
    "    df_month = df.copy() #we store a version of the df filtered by month only for the plots of day frequency\n",
    "    \n",
    "    if day != 'all':\n",
    "        # the days are named, so need to create a lista and index them\n",
    "        df = df[df['day_of_week'] == day.title()] # we title the day to match the day_of_week format, which is titled.\n",
    "        \n",
    "    return(df, df_month)"
   ]
  },
  {
   "cell_type": "code",
   "execution_count": 4,
   "id": "4951ddc8",
   "metadata": {},
   "outputs": [],
   "source": [
    "def plot_day(df, city, month):\n",
    "    \n",
    "    plt.figure(figsize=(7, 3))\n",
    "    plt.xlabel('Day')\n",
    "    plt.ylabel('Frequency')\n",
    "    \n",
    "    title = month.title() if month != 'all' else 'All Year Round'\n",
    "    plt.title(f'Travel Frequency by Day in {city.title()}\\n{title}')\n",
    "    \n",
    "    sns.barplot(x=df.day_of_week.value_counts().index, y=df.day_of_week.value_counts().values)\n",
    "    \n",
    "    plt.show()"
   ]
  },
  {
   "cell_type": "code",
   "execution_count": 5,
   "id": "30fcb14b",
   "metadata": {},
   "outputs": [],
   "source": [
    "def plot_hour(df, city, month, day):\n",
    "    \n",
    "    plt.figure(figsize=(7, 3))\n",
    "    plt.xlabel('Hour')\n",
    "    plt.ylabel('Frequency')\n",
    "    \n",
    "    month_plot = month.title() if month != 'all' else 'All Months'\n",
    "    day_plot = day.title() if day != 'all' else 'All Days'\n",
    "    \n",
    "    plt.title(f'Travel Frequency by Hour in {city.title()}\\n{month_plot}, {day_plot}')\n",
    "    \n",
    "    sns.barplot(x=df.hour.value_counts().index, y=df.hour.value_counts().values)\n",
    "    plt.show()"
   ]
  },
  {
   "cell_type": "code",
   "execution_count": 6,
   "id": "abf19897",
   "metadata": {},
   "outputs": [],
   "source": [
    "import ipywidgets as widgets\n",
    "from IPython.display import display"
   ]
  },
  {
   "cell_type": "code",
   "execution_count": 7,
   "id": "96107153",
   "metadata": {},
   "outputs": [],
   "source": [
    "def plot_stuff(city, month):\n",
    "    #month = 'june'\n",
    "    city = city.lower()\n",
    "    month = month.lower()\n",
    "    day = 'all'\n",
    "    \n",
    "    df, df_month = load_data(city, month, day)\n",
    "    \n",
    "    plot_day(df_month, city, month)\n",
    "    plot_hour(df, city, month, day)"
   ]
  },
  {
   "cell_type": "code",
   "execution_count": 8,
   "id": "42918eb2",
   "metadata": {},
   "outputs": [],
   "source": [
    "def plot_interactive():\n",
    "    city_drop = widgets.Dropdown(\n",
    "        options=['Chicago', 'New York City', 'Washington'],\n",
    "        value='Chicago',\n",
    "        description='City:',\n",
    "    )\n",
    "\n",
    "    month_drop = widgets.Dropdown(\n",
    "        options=['January', 'February', 'March', 'April', 'May', 'June', 'All'],\n",
    "        value='All',\n",
    "        description='Month:',\n",
    "    )\n",
    "\n",
    "    widgets.interact(plot_stuff, city=city_drop, month=month_drop);"
   ]
  },
  {
   "cell_type": "code",
   "execution_count": 9,
   "id": "e4a41da9",
   "metadata": {},
   "outputs": [
    {
     "data": {
      "application/vnd.jupyter.widget-view+json": {
       "model_id": "52ca2c5f848842608d8cadbfded865fc",
       "version_major": 2,
       "version_minor": 0
      },
      "text/plain": [
       "interactive(children=(Dropdown(description='City:', options=('Chicago', 'New York City', 'Washington'), value=…"
      ]
     },
     "metadata": {},
     "output_type": "display_data"
    }
   ],
   "source": [
    "plot_interactive()"
   ]
  }
 ],
 "metadata": {
  "kernelspec": {
   "display_name": "Python 3",
   "language": "python",
   "name": "python3"
  },
  "language_info": {
   "codemirror_mode": {
    "name": "ipython",
    "version": 3
   },
   "file_extension": ".py",
   "mimetype": "text/x-python",
   "name": "python",
   "nbconvert_exporter": "python",
   "pygments_lexer": "ipython3",
   "version": "3.8.8"
  }
 },
 "nbformat": 4,
 "nbformat_minor": 5
}
