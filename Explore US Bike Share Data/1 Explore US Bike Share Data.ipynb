{
 "cells": [
  {
   "cell_type": "markdown",
   "id": "d101c7c1",
   "metadata": {},
   "source": [
    "# Explore US Bikeshare Data\n",
    "In this notebook, we explore data related to bike share systems provided by [Motivate](https://motivateco.com/), a bike share system provider for many major cities in the United States, to uncover bike share usage patterns for three major cities in the United States: Chicago, New York City, and Washington.\n",
    "\n",
    "Several functions are created to:\n",
    "- Load the data.\n",
    "- Filter data based on user input.\n",
    "- Display different statistics.\n",
    "- Display Visualizations."
   ]
  },
  {
   "cell_type": "markdown",
   "id": "688f03c2",
   "metadata": {},
   "source": [
    "Import libraries"
   ]
  },
  {
   "cell_type": "code",
   "execution_count": 1,
   "id": "79f29b4d",
   "metadata": {},
   "outputs": [],
   "source": [
    "import pandas as pd\n",
    "import seaborn as sns\n",
    "import matplotlib.pyplot as plt"
   ]
  },
  {
   "cell_type": "markdown",
   "id": "913d1904",
   "metadata": {},
   "source": [
    "Create a dict for city files and lists for months and days that we'll use later"
   ]
  },
  {
   "cell_type": "code",
   "execution_count": 2,
   "id": "90e1ab69",
   "metadata": {},
   "outputs": [],
   "source": [
    "CITY_DATA = {'chicago': 'chicago.csv',\n",
    "             'new york city': 'new_york_city.csv',\n",
    "             'washington': 'washington.csv'}\n",
    "months = ['january', 'february', 'march', 'april', 'may', 'june']\n",
    "days = ['saturday', 'sunday', 'monday', 'tuesday', 'wednsday', 'thursday', 'friday']"
   ]
  },
  {
   "cell_type": "markdown",
   "id": "7e3fa4d0",
   "metadata": {},
   "source": [
    "Get city, month, day from user"
   ]
  },
  {
   "cell_type": "code",
   "execution_count": 3,
   "id": "b416caa8",
   "metadata": {},
   "outputs": [],
   "source": [
    "def get_filters():\n",
    "    \n",
    "    print(\"Hello, let's explore some bikeshare data in the US!\\nThe data we'll analyze is from 2017\\n\")\n",
    "    \n",
    "    city = input(\"Enter the city to explore its data: Chicago, New York City or Washington\\n\").lower()\n",
    "    while city not in CITY_DATA:\n",
    "        city = input(\"\\nInvalid input.\\nEnter a valid city from: Chicago, New York City or Washington\\n\")\n",
    "    \n",
    "    month = input(\"\\nWhich month would you like to filter by?\\nSelect any month from January to June or 'all' to analyze all the months\\n\").lower()\n",
    "    while (month not in months) and month != 'all':\n",
    "        month = input(\"\\nEnter a valid month from January to June or 'all'\\n\").lower()\n",
    "        \n",
    "    day = input(\"\\nWhich day would you like to filter by?\\nSelect any day or 'all'\\n\").lower()\n",
    "    while (day not in days) and day != 'all':\n",
    "        day = input(\"\\nEnter a valid day or 'all'\\n\").lower()\n",
    "        \n",
    "    print(f\"\\nThe following data is for the selected inputs:\\n\\nCity: {city.title()}\\nMonth(s): {month.title()}\\nDay(s): {day.title()}\")\n",
    "        \n",
    "    return city, month, day"
   ]
  },
  {
   "cell_type": "markdown",
   "id": "ec35d0e1",
   "metadata": {},
   "source": [
    "Load and filter dataset based on user inputs"
   ]
  },
  {
   "cell_type": "code",
   "execution_count": 4,
   "id": "8bb2a459",
   "metadata": {},
   "outputs": [],
   "source": [
    "def load_data(city, month, day):\n",
    "    \n",
    "    df = pd.read_csv(CITY_DATA[city])\n",
    "    df.drop(['Unnamed: 0'], axis = 1, inplace = True)\n",
    "    \n",
    "    #we'll change the start time to date time format and extract the month, day and hour\n",
    "    \n",
    "    df['Start Time'] = pd.to_datetime(df['Start Time'])\n",
    "    df['month'] = df['Start Time'].dt.month\n",
    "    df['day_of_week'] = df['Start Time'].dt.day_name()\n",
    "    df['hour'] = df['Start Time'].dt.hour\n",
    "    \n",
    "    #now we have the df loaded correctly, we need to filter by the input month\n",
    "    #the user can enter a month name or 'all', if they choose all, we don't need to filter\n",
    "    \n",
    "    if month != 'all':\n",
    "        # when we extract the month using .dt, it will be the month number, so we need to index the months\n",
    "        months = ['january', 'february', 'march', 'april', 'may', 'june'] \n",
    "        df = df[df['month'] == months.index(month) + 1]\n",
    "        \n",
    "    df_month = df.copy() #we store a version of the df filtered by month only for the plots of day frequency\n",
    "    \n",
    "    if day != 'all':\n",
    "        # the days are named, so need to create a lista and index them\n",
    "        df = df[df['day_of_week'] == day.title()] # we title the day to match the day_of_week format, which is titled.\n",
    "        \n",
    "    return(df, df_month)"
   ]
  },
  {
   "cell_type": "markdown",
   "id": "972e2d65",
   "metadata": {},
   "source": [
    "Calculate time stats"
   ]
  },
  {
   "cell_type": "code",
   "execution_count": 5,
   "id": "7e0df530",
   "metadata": {},
   "outputs": [],
   "source": [
    "def time_stats(df, month, day):\n",
    "    \n",
    "    print('\\nCalculating the most and least frequent times of travel...\\n')\n",
    "    #most common month\n",
    "    if month == 'all':\n",
    "        most_common_month = months[df['month'].mode()[0] - 1].title()\n",
    "        least_common_month = months[df['month'].value_counts().idxmin() - 1].title()\n",
    "        print(f\"Most common month of travel: {most_common_month}\")\n",
    "        print(f\"Least common month of travel: {least_common_month}\\n\")\n",
    "    \n",
    "    #most common day\n",
    "    if day == 'all':\n",
    "        most_common_day = df['day_of_week'].mode()[0]\n",
    "        least_common_day = df['day_of_week'].value_counts().idxmin()\n",
    "        print(f\"Most common day of travel: {most_common_day}\")\n",
    "        print(f\"Least common day of travel: {least_common_day}\\n\")\n",
    "        \n",
    "    \n",
    "    #the most common hour\n",
    "    most_common_hour = df['hour'].mode()[0]\n",
    "    least_common_hour = df['hour'].value_counts().idxmin()\n",
    "    print(f\"Most common hour of travel: {most_common_hour}\")\n",
    "    print(f\"Least common hour of travel: {least_common_hour}\\n\")\n",
    "    \n",
    "    "
   ]
  },
  {
   "cell_type": "markdown",
   "id": "8c029d6f",
   "metadata": {},
   "source": [
    "Calculate station stats"
   ]
  },
  {
   "cell_type": "code",
   "execution_count": 6,
   "id": "b6b6ac4a",
   "metadata": {},
   "outputs": [],
   "source": [
    "def station_stats(df):\n",
    "    \n",
    "    print('\\nCalculating the most frequently travelled stations...\\n')\n",
    "    df['start_to_end'] = 'From ' + df['Start Station'] + ' to ' + df['End Station']\n",
    "    \n",
    "    most_common_start = df['Start Station'].mode()[0]\n",
    "    print(f\"Most frequent starting station: {most_common_start}\")\n",
    "    \n",
    "    most_common_end = df['End Station'].mode()[0]\n",
    "    print(f\"Most frequent ending station: {most_common_end}\")\n",
    "    \n",
    "    most_common_trip = df['start_to_end'].mode()[0]\n",
    "    print(f\"Most frequent trip: {most_common_trip}\")"
   ]
  },
  {
   "cell_type": "markdown",
   "id": "28d08d9d",
   "metadata": {},
   "source": [
    "Calculate trip duration stats"
   ]
  },
  {
   "cell_type": "code",
   "execution_count": 7,
   "id": "d94f1c16",
   "metadata": {},
   "outputs": [],
   "source": [
    "def trip_duration_stats(df):\n",
    "    \n",
    "    print('\\nCalculating Trip Duration...\\n')\n",
    "    \n",
    "    total_travel_time = df['Trip Duration'].sum()\n",
    "    seconds = total_travel_time\n",
    "    seconds = seconds % (24 * 3600)\n",
    "    hour = seconds // 3600\n",
    "    seconds %= 3600\n",
    "    minutes = seconds // 60\n",
    "    seconds %= 60\n",
    "    \n",
    "    print(f\"Total travel time: {int(hour)}:{int(minutes)}:{int(seconds)}\")\n",
    "    \n",
    "    average_travel_time = df['Trip Duration'].mean()\n",
    "    seconds = average_travel_time\n",
    "    seconds = seconds % (24 * 3600)\n",
    "    hour = seconds // 3600\n",
    "    seconds %= 3600\n",
    "    minutes = seconds // 60\n",
    "    seconds %= 60\n",
    "    \n",
    "    print(f\"Average travel time is {round(minutes, 0)}:{round(seconds, 0)}\")"
   ]
  },
  {
   "cell_type": "markdown",
   "id": "d871c1d8",
   "metadata": {},
   "source": [
    "Calculate user stats"
   ]
  },
  {
   "cell_type": "code",
   "execution_count": 8,
   "id": "dfc66560",
   "metadata": {},
   "outputs": [],
   "source": [
    "def user_stats(df):\n",
    "    \n",
    "    print('\\nCalculating User Stats...\\n')\n",
    "    \n",
    "    user_types = df['User Type'].value_counts()\n",
    "    print(f\"User types:\\n{user_types.to_string()}\")\n",
    "    \n",
    "    try:\n",
    "        gender_count = df['Gender'].value_counts()\n",
    "        print(f\"\\nUser gender count:\\n{gender_count.to_string()}\\n\")\n",
    "    except:\n",
    "        print(\"The gender is not available in this city\\n\")\n",
    "        \n",
    "    try:\n",
    "        earliest_year = int(df['Birth Year'].min())\n",
    "        recent_year = int(df['Birth Year'].max())\n",
    "        common_year = int(df['Birth Year'].mode()[0])\n",
    "        \n",
    "        print(f\"Earliest birth year: {earliest_year}\\n\")\n",
    "        print(f\"Most recent birth year: {recent_year}\\n\")\n",
    "        print(f\"Most common birth year: {common_year}\\n\")\n",
    "    except:\n",
    "        print(\"The birth year is not available in this city\\n\")"
   ]
  },
  {
   "cell_type": "markdown",
   "id": "db978ef5",
   "metadata": {},
   "source": [
    "Display sample data"
   ]
  },
  {
   "cell_type": "code",
   "execution_count": 9,
   "id": "b6d92a2e",
   "metadata": {},
   "outputs": [],
   "source": [
    "def raw_data(df):\n",
    "    \"\"\"Promts the user no enter an answer(yes/no) and displays 5 random rows of data if the user enters (yes)\"\"\"\n",
    "    \n",
    "    answer = input(\"Would you like to see 5 lines of raw data? (yes/no)\\n\").lower()\n",
    "    \n",
    "    while answer == 'yes':\n",
    "        print(df.sample(n=5))\n",
    "        answer = input(\"Would you like to see another 5 lines of raw data? (yes/no)\\n\").lower()\n",
    "    "
   ]
  },
  {
   "cell_type": "markdown",
   "id": "5776ca77",
   "metadata": {},
   "source": [
    "Plot travel frequency by day"
   ]
  },
  {
   "cell_type": "code",
   "execution_count": 10,
   "id": "4951ddc8",
   "metadata": {},
   "outputs": [],
   "source": [
    "def plot_day(df, city, month):\n",
    "    \n",
    "    plt.figure(figsize=(8, 5))\n",
    "    plt.xlabel('Day')\n",
    "    #plt.ylabel('Frequency')\n",
    "    \n",
    "    title = month.title() if month != 'all' else 'All Year Round'\n",
    "    plt.title(f'Travel Frequency by Day in {city.title()}\\n{title}')\n",
    "    \n",
    "    sns.countplot(x=df.day_of_week, order=df.day_of_week.value_counts().index)    \n",
    "    plt.show()"
   ]
  },
  {
   "cell_type": "markdown",
   "id": "6fbd61da",
   "metadata": {},
   "source": [
    "Plot travel frequency by hour"
   ]
  },
  {
   "cell_type": "code",
   "execution_count": 11,
   "id": "30fcb14b",
   "metadata": {},
   "outputs": [],
   "source": [
    "def plot_hour(df, city, month, day):\n",
    "    \n",
    "    plt.figure(figsize=(8, 5))\n",
    "    plt.xlabel('Hour')\n",
    "    plt.ylabel('Frequency')\n",
    "    \n",
    "    month_plot = month.title() if month != 'all' else 'All Months'\n",
    "    day_plot = day.title() if day != 'all' else 'All Days'\n",
    "    \n",
    "    plt.title(f'Travel Frequency by Hour in {city.title()}\\n{month_plot}, {day_plot}')\n",
    "    \n",
    "    sns.barplot(x=df.hour.value_counts().index, y=df.hour.value_counts().values)\n",
    "    plt.show()"
   ]
  },
  {
   "cell_type": "markdown",
   "id": "7dd18d8b",
   "metadata": {},
   "source": [
    "Main loop"
   ]
  },
  {
   "cell_type": "code",
   "execution_count": 12,
   "id": "9c4c64a3",
   "metadata": {},
   "outputs": [],
   "source": [
    "def main():\n",
    "    while True:\n",
    "        city, month, day = get_filters()\n",
    "        df, df_month = load_data(city, month, day)\n",
    "\n",
    "        time_stats(df, month, day)\n",
    "        \n",
    "        plot_day(df_month, city, month)\n",
    "        plot_hour(df, city, month, day)\n",
    "        \n",
    "        station_stats(df)\n",
    "        trip_duration_stats(df)\n",
    "        user_stats(df)\n",
    "        raw_data(df)\n",
    "\n",
    "        restart = input('\\nWould you like to restart? Enter yes or no\\n')\n",
    "        if restart.lower() != 'yes':\n",
    "            break\n",
    "        print('\\n')\n"
   ]
  },
  {
   "cell_type": "code",
   "execution_count": 13,
   "id": "96107153",
   "metadata": {},
   "outputs": [
    {
     "name": "stdout",
     "output_type": "stream",
     "text": [
      "Hello, let's explore some bikeshare data in the US!\n",
      "The data we'll analyze is from 2017\n",
      "\n",
      "Enter the city to explore its data: Chicago, New York City or Washington\n",
      "chicago\n",
      "\n",
      "Which month would you like to filter by?\n",
      "Select any month from January to June or 'all' to analyze all the months\n",
      "february\n",
      "\n",
      "Which day would you like to filter by?\n",
      "Select any day or 'all'\n",
      "all\n",
      "\n",
      "The following data is for the selected inputs:\n",
      "\n",
      "City: Chicago\n",
      "Month(s): February\n",
      "Day(s): All\n",
      "\n",
      "Calculating the most and least frequent times of travel...\n",
      "\n",
      "Most common day of travel: Monday\n",
      "Least common day of travel: Thursday\n",
      "\n",
      "Most common hour of travel: 17\n",
      "Least common hour of travel: 3\n",
      "\n"
     ]
    },
    {
     "data": {
      "image/png": "[encoded data removed]",
      "text/plain": [
       "<Figure size 576x360 with 1 Axes>"
      ]
     },
     "metadata": {
      "needs_background": "light"
     },
     "output_type": "display_data"
    },
    {
     "data": {
      "image/png": "[encoded data removed]",
      "text/plain": [
       "<Figure size 576x360 with 1 Axes>"
      ]
     },
     "metadata": {
      "needs_background": "light"
     },
     "output_type": "display_data"
    },
    {
     "name": "stdout",
     "output_type": "stream",
     "text": [
      "\n",
      "Calculating the most frequently travelled stations...\n",
      "\n",
      "Most frequent starting station: Clinton St & Washington Blvd\n",
      "Most frequent ending station: Clinton St & Washington Blvd\n",
      "Most frequent trip: From Streeter Dr & Grand Ave to Streeter Dr & Grand Ave\n",
      "\n",
      "Calculating Trip Duration...\n",
      "\n",
      "Total travel time: 15:57:4\n",
      "Average travel time is 13.0:47.0\n",
      "\n",
      "Calculating User Stats...\n",
      "\n",
      "User types:\n",
      "Subscriber    27556\n",
      "Customer       4500\n",
      "Dependent         1\n",
      "\n",
      "User gender count:\n",
      "Male      21437\n",
      "Female     6119\n",
      "\n",
      "Earliest birth year: 1899\n",
      "\n",
      "Most recent birth year: 2001\n",
      "\n",
      "Most common birth year: 1989\n",
      "\n",
      "Would you like to see 5 lines of raw data? (yes/no)\n",
      "no\n",
      "\n",
      "Would you like to restart? Enter yes or no\n",
      "no\n"
     ]
    }
   ],
   "source": [
    "main()"
   ]
  }
 ],
 "metadata": {
  "kernelspec": {
   "display_name": "Python 3",
   "language": "python",
   "name": "python3"
  },
  "language_info": {
   "codemirror_mode": {
    "name": "ipython",
    "version": 3
   },
   "file_extension": ".py",
   "mimetype": "text/x-python",
   "name": "python",
   "nbconvert_exporter": "python",
   "pygments_lexer": "ipython3",
   "version": "3.8.8"
  }
 },
 "nbformat": 4,
 "nbformat_minor": 5
}
